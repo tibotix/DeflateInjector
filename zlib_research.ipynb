{
 "cells": [
  {
   "cell_type": "code",
   "execution_count": null,
   "metadata": {},
   "outputs": [],
   "source": [
    "#!/usr/bin/env python\n",
    "# coding: utf-8"
   ]
  },
  {
   "cell_type": "code",
   "execution_count": 1,
   "metadata": {},
   "outputs": [],
   "source": [
    "LITERALS = 256\n",
    "LENGTH_CODES = 29\n",
    "_dist_code = [ 0,  1,  2,  3,  4,  4,  5,  5,  6,  6,  6,  6,  7,  7,  7,  7,  8,  8,  8,  8,\n",
    " 8,  8,  8,  8,  9,  9,  9,  9,  9,  9,  9,  9, 10, 10, 10, 10, 10, 10, 10, 10,\n",
    "10, 10, 10, 10, 10, 10, 10, 10, 11, 11, 11, 11, 11, 11, 11, 11, 11, 11, 11, 11,\n",
    "11, 11, 11, 11, 12, 12, 12, 12, 12, 12, 12, 12, 12, 12, 12, 12, 12, 12, 12, 12,\n",
    "12, 12, 12, 12, 12, 12, 12, 12, 12, 12, 12, 12, 12, 12, 12, 12, 13, 13, 13, 13,\n",
    "13, 13, 13, 13, 13, 13, 13, 13, 13, 13, 13, 13, 13, 13, 13, 13, 13, 13, 13, 13,\n",
    "13, 13, 13, 13, 13, 13, 13, 13, 14, 14, 14, 14, 14, 14, 14, 14, 14, 14, 14, 14,\n",
    "14, 14, 14, 14, 14, 14, 14, 14, 14, 14, 14, 14, 14, 14, 14, 14, 14, 14, 14, 14,\n",
    "14, 14, 14, 14, 14, 14, 14, 14, 14, 14, 14, 14, 14, 14, 14, 14, 14, 14, 14, 14,\n",
    "14, 14, 14, 14, 14, 14, 14, 14, 14, 14, 14, 14, 15, 15, 15, 15, 15, 15, 15, 15,\n",
    "15, 15, 15, 15, 15, 15, 15, 15, 15, 15, 15, 15, 15, 15, 15, 15, 15, 15, 15, 15,\n",
    "15, 15, 15, 15, 15, 15, 15, 15, 15, 15, 15, 15, 15, 15, 15, 15, 15, 15, 15, 15,\n",
    "15, 15, 15, 15, 15, 15, 15, 15, 15, 15, 15, 15, 15, 15, 15, 15,  0,  0, 16, 17,\n",
    "18, 18, 19, 19, 20, 20, 20, 20, 21, 21, 21, 21, 22, 22, 22, 22, 22, 22, 22, 22,\n",
    "23, 23, 23, 23, 23, 23, 23, 23, 24, 24, 24, 24, 24, 24, 24, 24, 24, 24, 24, 24,\n",
    "24, 24, 24, 24, 25, 25, 25, 25, 25, 25, 25, 25, 25, 25, 25, 25, 25, 25, 25, 25,\n",
    "26, 26, 26, 26, 26, 26, 26, 26, 26, 26, 26, 26, 26, 26, 26, 26, 26, 26, 26, 26,\n",
    "26, 26, 26, 26, 26, 26, 26, 26, 26, 26, 26, 26, 27, 27, 27, 27, 27, 27, 27, 27,\n",
    "27, 27, 27, 27, 27, 27, 27, 27, 27, 27, 27, 27, 27, 27, 27, 27, 27, 27, 27, 27,\n",
    "27, 27, 27, 27, 28, 28, 28, 28, 28, 28, 28, 28, 28, 28, 28, 28, 28, 28, 28, 28,\n",
    "28, 28, 28, 28, 28, 28, 28, 28, 28, 28, 28, 28, 28, 28, 28, 28, 28, 28, 28, 28,\n",
    "28, 28, 28, 28, 28, 28, 28, 28, 28, 28, 28, 28, 28, 28, 28, 28, 28, 28, 28, 28,\n",
    "28, 28, 28, 28, 28, 28, 28, 28, 29, 29, 29, 29, 29, 29, 29, 29, 29, 29, 29, 29,\n",
    "29, 29, 29, 29, 29, 29, 29, 29, 29, 29, 29, 29, 29, 29, 29, 29, 29, 29, 29, 29,\n",
    "29, 29, 29, 29, 29, 29, 29, 29, 29, 29, 29, 29, 29, 29, 29, 29, 29, 29, 29, 29,\n",
    "29, 29, 29, 29, 29, 29, 29, 29, 29, 29, 29, 29]\n",
    "_length_code = [ 0,  1,  2,  3,  4,  5,  6,  7,  8,  8,  9,  9, 10, 10, 11, 11, 12, 12, 12, 12,\n",
    "13, 13, 13, 13, 14, 14, 14, 14, 15, 15, 15, 15, 16, 16, 16, 16, 16, 16, 16, 16,\n",
    "17, 17, 17, 17, 17, 17, 17, 17, 18, 18, 18, 18, 18, 18, 18, 18, 19, 19, 19, 19,\n",
    "19, 19, 19, 19, 20, 20, 20, 20, 20, 20, 20, 20, 20, 20, 20, 20, 20, 20, 20, 20,\n",
    "21, 21, 21, 21, 21, 21, 21, 21, 21, 21, 21, 21, 21, 21, 21, 21, 22, 22, 22, 22,\n",
    "22, 22, 22, 22, 22, 22, 22, 22, 22, 22, 22, 22, 23, 23, 23, 23, 23, 23, 23, 23,\n",
    "23, 23, 23, 23, 23, 23, 23, 23, 24, 24, 24, 24, 24, 24, 24, 24, 24, 24, 24, 24,\n",
    "24, 24, 24, 24, 24, 24, 24, 24, 24, 24, 24, 24, 24, 24, 24, 24, 24, 24, 24, 24,\n",
    "25, 25, 25, 25, 25, 25, 25, 25, 25, 25, 25, 25, 25, 25, 25, 25, 25, 25, 25, 25,\n",
    "25, 25, 25, 25, 25, 25, 25, 25, 25, 25, 25, 25, 26, 26, 26, 26, 26, 26, 26, 26,\n",
    "26, 26, 26, 26, 26, 26, 26, 26, 26, 26, 26, 26, 26, 26, 26, 26, 26, 26, 26, 26,\n",
    "26, 26, 26, 26, 27, 27, 27, 27, 27, 27, 27, 27, 27, 27, 27, 27, 27, 27, 27, 27,\n",
    "27, 27, 27, 27, 27, 27, 27, 27, 27, 27, 27, 27, 27, 27, 27, 28]"
   ]
  },
  {
   "cell_type": "markdown",
   "metadata": {},
   "source": [
    "### l_codes:<br>\n",
    "    0..255   = literal bytes<br>\n",
    "    256      = end of block<br>\n",
    "    257..285 = length_codes<br>\n",
    "### dist:<br>\n",
    "    1..32KiB"
   ]
  },
  {
   "cell_type": "code",
   "execution_count": 2,
   "metadata": {},
   "outputs": [],
   "source": [
    "def d_code(dist):\n",
    "    if(dist<256):\n",
    "        return _dist_code[dist]\n",
    "    return _dist_code[256+((dist)>>7)]"
   ]
  },
  {
   "cell_type": "code",
   "execution_count": 3,
   "metadata": {},
   "outputs": [
    {
     "data": {
      "text/plain": [
       "256"
      ]
     },
     "execution_count": 3,
     "metadata": {},
     "output_type": "execute_result"
    }
   ],
   "source": [
    "len(_length_code)"
   ]
  },
  {
   "cell_type": "code",
   "execution_count": 4,
   "metadata": {},
   "outputs": [
    {
     "data": {
      "text/plain": [
       "'0b100000010'"
      ]
     },
     "execution_count": 4,
     "metadata": {},
     "output_type": "execute_result"
    }
   ],
   "source": [
    "bin(256+(285>>7))"
   ]
  },
  {
   "cell_type": "code",
   "execution_count": 5,
   "metadata": {},
   "outputs": [
    {
     "data": {
      "text/plain": [
       "258"
      ]
     },
     "execution_count": 5,
     "metadata": {},
     "output_type": "execute_result"
    }
   ],
   "source": [
    "0b100000010"
   ]
  },
  {
   "cell_type": "code",
   "execution_count": 6,
   "metadata": {},
   "outputs": [
    {
     "data": {
      "text/plain": [
       "0"
      ]
     },
     "execution_count": 6,
     "metadata": {},
     "output_type": "execute_result"
    }
   ],
   "source": [
    "_dist_code[256]"
   ]
  },
  {
   "cell_type": "code",
   "execution_count": 7,
   "metadata": {},
   "outputs": [],
   "source": [
    "def ppbits(b):\n",
    "    for i in b:\n",
    "        print(\"{0:#010b}\".format(i))"
   ]
  },
  {
   "cell_type": "code",
   "execution_count": 8,
   "metadata": {},
   "outputs": [
    {
     "name": "stdout",
     "output_type": "stream",
     "text": [
      "0b00011111\n",
      "0b10001011\n",
      "0b00001000\n",
      "0b00000000\n",
      "0b10100010\n",
      "0b00100101\n",
      "0b01001101\n",
      "0b01100000\n",
      "0b00000010\n",
      "0b11111111\n",
      "0b01110011\n",
      "0b00000100\n",
      "0b00000000\n",
      "0b10001011\n",
      "0b10011110\n",
      "0b11011001\n",
      "0b11010011\n",
      "0b00000001\n",
      "0b00000000\n",
      "0b00000000\n",
      "0b00000000\n"
     ]
    }
   ],
   "source": [
    "import gzip\n",
    "ppbits(gzip.compress(b\"A\"))"
   ]
  },
  {
   "cell_type": "code",
   "execution_count": 9,
   "metadata": {},
   "outputs": [],
   "source": [
    "def parse_flags(flag_byte):\n",
    "    if(flag_byte & 0x1):\n",
    "        print(\"ASCII Flag set\")\n",
    "    if(flag_byte & 0x2):\n",
    "        print(\"CRC-16 for header exists\")\n",
    "    if(flag_byte & 0x4):\n",
    "        print(\"Extra Flag set\")\n",
    "    if(flag_byte & 0x8):\n",
    "        print(\"Original Name exists\")\n",
    "    if(flag_byte & 0x10):\n",
    "        print(\"Comment exists\")"
   ]
  },
  {
   "cell_type": "code",
   "execution_count": 10,
   "metadata": {},
   "outputs": [],
   "source": [
    "import struct, datetime\n",
    "def parse_timestamp(timestamp):\n",
    "    recoverbinstamp = struct.unpack('<L', timestamp)[0]\n",
    "    recovernow = datetime.datetime.fromtimestamp(recoverbinstamp)\n",
    "    print(\"Last modification: {0}\".format(str(recovernow)))"
   ]
  },
  {
   "cell_type": "code",
   "execution_count": 11,
   "metadata": {},
   "outputs": [],
   "source": [
    "def parse_extra_information(extra):\n",
    "    if(extra & 0x2):\n",
    "        print(\"Using maximal compression and slowest algorithm\")\n",
    "    if(extra & 0x4):\n",
    "        print(\"Using fastest compression\")"
   ]
  },
  {
   "cell_type": "code",
   "execution_count": 12,
   "metadata": {},
   "outputs": [],
   "source": [
    "def parse_os(byte):\n",
    "    if(byte == 0x0):\n",
    "        print(\"FAT\")\n",
    "    elif(byte==0x1):\n",
    "        print(\"AmigaOS\")\n",
    "    elif(byte==0x2):\n",
    "        print(\"OpenVMS\")\n",
    "    elif(byte==0x3):\n",
    "        print(\"Unix\")\n",
    "    elif(byte==0x4):\n",
    "        print(\"VM\")\n",
    "    elif(byte==0x5):\n",
    "        print(\"Atari TOS\")\n",
    "    elif(byte==0x6):\n",
    "        print(\"HPFS\")\n",
    "    elif(byte==0x7):\n",
    "        print(\"Mac OS\")\n",
    "    elif(byte==0x8):\n",
    "        print(\"Z-System\")\n",
    "    elif(byte==0x9):\n",
    "        print(\"CP/M\")\n",
    "    elif(byte==0xa):\n",
    "        print(\"TOPS-20\")\n",
    "    elif(byte==0xb):\n",
    "        print(\"NTFS\")\n",
    "    elif(byte==0xc):\n",
    "        print(\"QDOS\")\n",
    "    elif(byte==0xd):\n",
    "        print(\"Acorn RISC OS\")\n",
    "    elif(byte==0xff):\n",
    "        print(\"Unknown OS\")\n",
    "    else:\n",
    "        print(\"Invalid OS\")"
   ]
  },
  {
   "cell_type": "code",
   "execution_count": 13,
   "metadata": {},
   "outputs": [],
   "source": [
    "def parse_header(data):\n",
    "    if(data[0:2] != b\"\\x1f\\x8b\"):\n",
    "        print(\"invalid header\")\n",
    "        return\n",
    "    print(\"-\"*10 + \"\\nHeader:\")\n",
    "    print(\"Compression method: {0}\".format(str(data[2])))\n",
    "    parse_flags(data[3])\n",
    "    parse_timestamp(data[4:8])\n",
    "    parse_extra_information(data[8])\n",
    "    parse_os(data[9])\n",
    "    print(\"-\"*10)"
   ]
  },
  {
   "cell_type": "code",
   "execution_count": 14,
   "metadata": {},
   "outputs": [],
   "source": [
    "def parse_trailer(data):\n",
    "    print(\"-\"*10 + \"\\nParse Trailer:\")\n",
    "    crc32 = data[:4]\n",
    "    isize = data[4:]\n",
    "    print(\"crc32 of uncompressed data: {0}\".format(hex(int.from_bytes(crc32, \"little\"))))\n",
    "    print(\"Size of uncompressed data: {0}\".format(hex(int.from_bytes(isize, \"little\"))))\n",
    "    print(\"-\"*10)"
   ]
  },
  {
   "cell_type": "code",
   "execution_count": 17,
   "metadata": {},
   "outputs": [],
   "source": [
    "import bitstring\n",
    "from numpy import *"
   ]
  },
  {
   "cell_type": "code",
   "execution_count": 18,
   "metadata": {},
   "outputs": [],
   "source": [
    "class BitStreamWrapper(bitstring.BitStream):        \n",
    "    def read(self, n, reverse=True):\n",
    "        stream = super().read(n)\n",
    "        if(reverse):\n",
    "            stream.reverse()\n",
    "        return stream\n",
    "        \n",
    "    @classmethod\n",
    "    def from_reversed_bytes(cls, data):\n",
    "        streams = list()\n",
    "        for b in data:\n",
    "            stream = cls(uint=b, length=8)\n",
    "            stream.reverse()\n",
    "            streams.append(stream)\n",
    "        return cls().join(streams)"
   ]
  },
  {
   "cell_type": "code",
   "execution_count": 19,
   "metadata": {},
   "outputs": [],
   "source": [
    "def parse_no_compression(blocks):\n",
    "    blocks.bytealign()\n",
    "    len_ = blocks.read(16).uint\n",
    "    nlen = blocks.read(16).uint\n",
    "    print(\"*len = {0}\".format(str(len_)))\n",
    "    print(\"*nlen = {0}\".format(str(nlen)))\n",
    "    if(~len_ != nlen):\n",
    "        print(\"Invalid len of uncompressed data!\")\n",
    "        return\n",
    "    ppbits(blocks[blocks.pos:].bytes)\n",
    "    data = blocks.read(len_*8)\n",
    "    data.byteswap()\n",
    "    print(\"uncompressed data: {0}\".format(str(data.bytes)))"
   ]
  },
  {
   "cell_type": "code",
   "execution_count": 20,
   "metadata": {},
   "outputs": [],
   "source": [
    "fixed_codes = {7: {0: 256, 1: 257, 2: 258, 3: 259, 4: 260, 5: 261, 6: 262, 7: 263, 8: 264, 9: 265, 10: 266, 11: 267, 12: 268, 13: 269, 14: 270, 15: 271, 16: 272, 17: 273, 18: 274, 19: 275, 20: 276, 21: 277, 22: 278}, 8: {48: 0, 49: 1, 50: 2, 51: 3, 52: 4, 53: 5, 54: 6, 55: 7, 56: 8, 57: 9, 58: 10, 59: 11, 60: 12, 61: 13, 62: 14, 63: 15, 64: 16, 65: 17, 66: 18, 67: 19, 68: 20, 69: 21, 70: 22, 71: 23, 72: 24, 73: 25, 74: 26, 75: 27, 76: 28, 77: 29, 78: 30, 79: 31, 80: 32, 81: 33, 82: 34, 83: 35, 84: 36, 85: 37, 86: 38, 87: 39, 88: 40, 89: 41, 90: 42, 91: 43, 92: 44, 93: 45, 94: 46, 95: 47, 96: 48, 97: 49, 98: 50, 99: 51, 100: 52, 101: 53, 102: 54, 103: 55, 104: 56, 105: 57, 106: 58, 107: 59, 108: 60, 109: 61, 110: 62, 111: 63, 112: 64, 113: 65, 114: 66, 115: 67, 116: 68, 117: 69, 118: 70, 119: 71, 120: 72, 121: 73, 122: 74, 123: 75, 124: 76, 125: 77, 126: 78, 127: 79, 128: 80, 129: 81, 130: 82, 131: 83, 132: 84, 133: 85, 134: 86, 135: 87, 136: 88, 137: 89, 138: 90, 139: 91, 140: 92, 141: 93, 142: 94, 143: 95, 144: 96, 145: 97, 146: 98, 147: 99, 148: 100, 149: 101, 150: 102, 151: 103, 152: 104, 153: 105, 154: 106, 155: 107, 156: 108, 157: 109, 158: 110, 159: 111, 160: 112, 161: 113, 162: 114, 163: 115, 164: 116, 165: 117, 166: 118, 167: 119, 168: 120, 169: 121, 170: 122, 171: 123, 172: 124, 173: 125, 174: 126, 175: 127, 176: 128, 177: 129, 178: 130, 179: 131, 180: 132, 181: 133, 182: 134, 183: 135, 184: 136, 185: 137, 186: 138, 187: 139, 188: 140, 189: 141, 190: 142, 191: 143, 192: 280, 193: 281, 194: 282, 195: 283, 196: 284, 197: 285, 198: 286, 199: 287}, 9: {400: 144, 401: 145, 402: 146, 403: 147, 404: 148, 405: 149, 406: 150, 407: 151, 408: 152, 409: 153, 410: 154, 411: 155, 412: 156, 413: 157, 414: 158, 415: 159, 416: 160, 417: 161, 418: 162, 419: 163, 420: 164, 421: 165, 422: 166, 423: 167, 424: 168, 425: 169, 426: 170, 427: 171, 428: 172, 429: 173, 430: 174, 431: 175, 432: 176, 433: 177, 434: 178, 435: 179, 436: 180, 437: 181, 438: 182, 439: 183, 440: 184, 441: 185, 442: 186, 443: 187, 444: 188, 445: 189, 446: 190, 447: 191, 448: 192, 449: 193, 450: 194, 451: 195, 452: 196, 453: 197, 454: 198, 455: 199, 456: 200, 457: 201, 458: 202, 459: 203, 460: 204, 461: 205, 462: 206, 463: 207, 464: 208, 465: 209, 466: 210, 467: 211, 468: 212, 469: 213, 470: 214, 471: 215, 472: 216, 473: 217, 474: 218, 475: 219, 476: 220, 477: 221, 478: 222, 479: 223, 480: 224, 481: 225, 482: 226, 483: 227, 484: 228, 485: 229, 486: 230, 487: 231, 488: 232, 489: 233, 490: 234, 491: 235, 492: 236, 493: 237, 494: 238, 495: 239, 496: 240, 497: 241, 498: 242, 499: 243, 500: 244, 501: 245, 502: 246, 503: 247, 504: 248, 505: 249, 506: 250, 507: 251, 508: 252, 509: 253, 510: 254, 511: 255}}"
   ]
  },
  {
   "cell_type": "code",
   "execution_count": 21,
   "metadata": {},
   "outputs": [],
   "source": [
    "def get_next_code(blocks):\n",
    "    cur_pos = blocks.pos\n",
    "    for bitlen in range(7,10):\n",
    "        print(\"reading bitlen: {0}\".format(str(bitlen)))\n",
    "        blocks.pos = cur_pos\n",
    "        print(str(blocks[blocks.pos:].bin))\n",
    "        code = blocks.read(bitlen, reverse=False)\n",
    "        print(\"trying code: {0}->{1}\".format(str(code.bin), str(code.uint)))\n",
    "        if(code.uint in fixed_codes[bitlen]):\n",
    "            print(\"Found valid code: {0}->{1}\".format(str(code.uint), str(fixed_codes[bitlen][code.uint])))\n",
    "            return fixed_codes[bitlen][code.uint]\n",
    "        "
   ]
  },
  {
   "cell_type": "code",
   "execution_count": 22,
   "metadata": {},
   "outputs": [],
   "source": [
    "length_codes = {257: [0, (3,)], 258: [0, (4,)], 259: [0, (5,)], 260: [0, (6,)], 261: [0, (7,)], 262: [0, (8,)], 263: [0, (9,)], 264: [0, (10,)], 265: [1, (11,12)], 266: [1, (13,14)], 267: [1, (15,16)], 268: [1, (17,18)], 269: [2, (19,22)], 270: [2, (23,26)], 271: [2, (27,30)], 272: [2, (31,34)], 273: [3, (35,42)], 274: [3, (43,50)], 275: [3, (51,58)], 276: [3, (59,66)], 277: [4, (67,82)], 278: [4, (83,98)], 279: [4, (99,114)], 280: [4, (115,130)], 281: [5, (131,162)], 282: [5, (163,194)], 283: [5, (195,226)], 284: [5, (227,257)], 285: [0, (258,)]}"
   ]
  },
  {
   "cell_type": "code",
   "execution_count": 23,
   "metadata": {},
   "outputs": [],
   "source": [
    "def parse_code(code, blocks):\n",
    "    if(code<256):\n",
    "        literal = chr(code)\n",
    "        print(\"Literal found: {0}\".format(literal))\n",
    "        return literal.encode(\"utf-8\")\n",
    "    if(code>256):\n",
    "        extra_bits, length_range = length_codes[code]\n",
    "        base_length = length_range[0]\n",
    "        print(\"Length code found: \\n\\textra_bits: {0}\\n\\tbase_length: {1}\".format(str(extra_bits), str(base_length)))\n",
    "        distance_code = blocks.read(extra_bits)\n",
    "        print(\"Distance code found: {0}\".format(str(distance_code)))\n",
    "        return b\"\"\n",
    "    return b\"\""
   ]
  },
  {
   "cell_type": "code",
   "execution_count": 24,
   "metadata": {},
   "outputs": [],
   "source": [
    "END_OF_BLOCK_CODE = 256"
   ]
  },
  {
   "cell_type": "code",
   "execution_count": 25,
   "metadata": {},
   "outputs": [],
   "source": [
    "def parse_fixed_huffman_compression(blocks):\n",
    "    data = b\"\"\n",
    "    next_code = get_next_code(blocks)\n",
    "    while(next_code != END_OF_BLOCK_CODE):\n",
    "        print(\"next_code: {0}\".format(str(next_code)))\n",
    "        data += parse_code(next_code, blocks)\n",
    "        next_code = get_next_code(blocks)\n",
    "    print(\"End of block!\")"
   ]
  },
  {
   "cell_type": "code",
   "execution_count": 26,
   "metadata": {},
   "outputs": [],
   "source": [
    "def parse_block(blocks):\n",
    "    btype = blocks.read(2).uint\n",
    "    if(btype==0b00):\n",
    "        print(\"*No compression\")\n",
    "        parse_no_compression(blocks)\n",
    "    elif(btype==0b01):\n",
    "        print(\"*Fixed Huffman encoding compression\")\n",
    "        parse_fixed_huffman_compression(blocks)\n",
    "    elif(btype==0b10):\n",
    "        print(\"*Dynamic Huffman encoding compression\")\n",
    "    elif(btype==0b11):\n",
    "        print(\"*Unknown compression\")\n",
    "    else:\n",
    "        print(\"!Invalid compression\")"
   ]
  },
  {
   "cell_type": "code",
   "execution_count": 27,
   "metadata": {},
   "outputs": [],
   "source": [
    "import bitstring"
   ]
  },
  {
   "cell_type": "code",
   "execution_count": 28,
   "metadata": {},
   "outputs": [],
   "source": [
    "def parse_blocks(blocks):\n",
    "    blocks = BitStreamWrapper.from_reversed_bytes(blocks)\n",
    "    last_block = False\n",
    "    print(\"-\"*10)\n",
    "    while(not last_block):\n",
    "        print(\"Parsing new Block...\")\n",
    "        if(blocks.read(1)):\n",
    "            print(\"*Last Block\")\n",
    "            last_block = True\n",
    "        parse_block(blocks)\n",
    "        print(\"-\"*10)"
   ]
  },
  {
   "cell_type": "code",
   "execution_count": 29,
   "metadata": {},
   "outputs": [],
   "source": [
    "def parse_gzip(data):\n",
    "    parse_header(data[0:10])\n",
    "    blocks = data[10:len(data)-8]\n",
    "    print(\"All Blocks:\")\n",
    "    ppbits(blocks)\n",
    "    parse_blocks(blocks)\n",
    "    parse_trailer(data[-8:])"
   ]
  },
  {
   "cell_type": "markdown",
   "metadata": {},
   "source": [
    "In[754]:"
   ]
  },
  {
   "cell_type": "code",
   "execution_count": 81,
   "metadata": {},
   "outputs": [
    {
     "name": "stdout",
     "output_type": "stream",
     "text": [
      "----------\n",
      "Header:\n",
      "Compression method: 8\n",
      "Last modification: 2021-03-13 23:16:20\n",
      "Using maximal compression and slowest algorithm\n",
      "Unknown OS\n",
      "----------\n",
      "All Blocks:\n",
      "0b10011011\n",
      "0b00110000\n",
      "0b01110001\n",
      "0b11010010\n",
      "0b11100100\n",
      "0b00101001\n",
      "0b11001110\n",
      "0b00000000\n",
      "----------\n",
      "Parsing new Block...\n",
      "*Last Block\n",
      "*Fixed Huffman encoding compression\n",
      "reading bitlen: 7\n",
      "1100100001100100011100100101100100111100101000111001100000000\n",
      "trying code: 1100100->100\n",
      "reading bitlen: 8\n",
      "1100100001100100011100100101100100111100101000111001100000000\n",
      "trying code: 11001000->200\n",
      "reading bitlen: 9\n",
      "1100100001100100011100100101100100111100101000111001100000000\n",
      "trying code: 110010000->400\n",
      "Found valid code: 400->144\n",
      "next_code: 144\n",
      "Literal found: \n",
      "reading bitlen: 7\n",
      "1100100011100100101100100111100101000111001100000000\n",
      "trying code: 1100100->100\n",
      "reading bitlen: 8\n",
      "1100100011100100101100100111100101000111001100000000\n",
      "trying code: 11001000->200\n",
      "reading bitlen: 9\n",
      "1100100011100100101100100111100101000111001100000000\n",
      "trying code: 110010001->401\n",
      "Found valid code: 401->145\n",
      "next_code: 145\n",
      "Literal found: \n",
      "reading bitlen: 7\n",
      "1100100101100100111100101000111001100000000\n",
      "trying code: 1100100->100\n",
      "reading bitlen: 8\n",
      "1100100101100100111100101000111001100000000\n",
      "trying code: 11001001->201\n",
      "reading bitlen: 9\n",
      "1100100101100100111100101000111001100000000\n",
      "trying code: 110010010->402\n",
      "Found valid code: 402->146\n",
      "next_code: 146\n",
      "Literal found: \n",
      "reading bitlen: 7\n",
      "1100100111100101000111001100000000\n",
      "trying code: 1100100->100\n",
      "reading bitlen: 8\n",
      "1100100111100101000111001100000000\n",
      "trying code: 11001001->201\n",
      "reading bitlen: 9\n",
      "1100100111100101000111001100000000\n",
      "trying code: 110010011->403\n",
      "Found valid code: 403->147\n",
      "next_code: 147\n",
      "Literal found: \n",
      "reading bitlen: 7\n",
      "1100101000111001100000000\n",
      "trying code: 1100101->101\n",
      "reading bitlen: 8\n",
      "1100101000111001100000000\n",
      "trying code: 11001010->202\n",
      "reading bitlen: 9\n",
      "1100101000111001100000000\n",
      "trying code: 110010100->404\n",
      "Found valid code: 404->148\n",
      "next_code: 148\n",
      "Literal found: \n",
      "reading bitlen: 7\n",
      "0111001100000000\n",
      "trying code: 0111001->57\n",
      "reading bitlen: 8\n",
      "0111001100000000\n",
      "trying code: 01110011->115\n",
      "Found valid code: 115->67\n",
      "next_code: 67\n",
      "Literal found: C\n",
      "reading bitlen: 7\n",
      "00000000\n",
      "trying code: 0000000->0\n",
      "Found valid code: 0->256\n",
      "End of block!\n",
      "----------\n",
      "----------\n",
      "Parse Trailer:\n",
      "crc32 of uncompressed data: 0x5226c9f2\n",
      "Size of uncompressed data: 0x6\n",
      "----------\n"
     ]
    }
   ],
   "source": [
    "parse_gzip(gzip.compress(b\"\\x90\\x91\\x92\\x93\\x94C\", compresslevel=9))"
   ]
  },
  {
   "cell_type": "code",
   "execution_count": 31,
   "metadata": {},
   "outputs": [
    {
     "data": {
      "text/plain": [
       "b'\\x1f\\x8b\\x08\\x00\\xdb%M`\\x02\\xff\\x9b0q\\xd2\\xe4)\\x01\\x02\\x13\\n\\x0c\\x12\\x14\\x18\\x1a\\x1c\"$*,248:<BDJLRTXZ\\\\bdjlrtxz|\\x82\\x84\\x8a\\x8c\\x92\\x98\\x9a\\x9c\\xa2\\xa4\\xaa\\xac\\xb2\\xb4\\xb8\\xba\\xbc\\xc2\\xc4\\xca\\xcc\\xd2\\xd4\\xd8\\xda\\xdc\\xe2\\xe4\\xea\\xec\\xf2\\xf4\\xf8\\xfa\\xfc\\x02\\x05\\x0b\\r\\x13\\x15\\x19\\x1b\\x1d#%+-359;=CEKMSUY[]cekmsuy{}\\x89Q\\x03\\x00w\\xc5\\x97\\x04\\x95\\x00\\x00\\x00'"
      ]
     },
     "execution_count": 31,
     "metadata": {},
     "output_type": "execute_result"
    }
   ],
   "source": [
    "gzip.compress(b\"\\x90\\x91\\x92\\x93\\x94P\\x10\\x90p0` \\x00\\x80@X\\x18x8h(\\x08\\x88HT\\x14t4d$\\x04\\x84D\\\\\\x1c|<l,\\x0c\\x8cLR\\x12r2b\\x02\\x82BZ\\x1az:j*\\n\\x8aJV\\x16v6f&\\x06\\x86F^\\x1e~>n.\\x0e\\x8eNQ\\x11q1a!\\x01\\x81AY\\x19y9i)\\t\\x89IU\\x15u5e%\\x05\\x85E]\\x1d}=m-\\r\\x8dMQ\\x11q1a!\\x01\\x81AY\\x19y9i)\\t\\x89IU\\x15u5e%\\x05\\x85E]\\x1d}=m-\\r\\x8dM\", compresslevel=9)"
   ]
  },
  {
   "cell_type": "code",
   "execution_count": 32,
   "metadata": {},
   "outputs": [
    {
     "data": {
      "text/plain": [
       "b'\\x1f\\x8b\\x08\\x00\\xdc%M`\\x02\\xff\\x9b0q\\xd2\\xe4)SDJLRTXZ\\\\bdjlrtxz|\\x82\\x84\\x8a\\x00\\x8a\\x04\\xe3\\xe5\\x1a\\x00\\x00\\x00'"
      ]
     },
     "execution_count": 32,
     "metadata": {},
     "output_type": "execute_result"
    }
   ],
   "source": [
    "gzip.compress(b\"\\x90\\x91\\x92\\x93\\x94\\x94\\x14t4d$\\x04\\x84D\\\\\\x1c|<l,\\x0c\\x8cLR\\x12r\")"
   ]
  },
  {
   "cell_type": "code",
   "execution_count": 33,
   "metadata": {},
   "outputs": [
    {
     "data": {
      "text/plain": [
       "'01111101'"
      ]
     },
     "execution_count": 33,
     "metadata": {},
     "output_type": "execute_result"
    }
   ],
   "source": [
    "b = bitstring.BitStream(bin=\"0b10000010\")\n",
    "b.invert()\n",
    "b.bin"
   ]
  },
  {
   "cell_type": "code",
   "execution_count": 34,
   "metadata": {},
   "outputs": [
    {
     "data": {
      "text/plain": [
       "'0b1000010'"
      ]
     },
     "execution_count": 34,
     "metadata": {},
     "output_type": "execute_result"
    }
   ],
   "source": [
    "bin(0b00110000 +18)"
   ]
  },
  {
   "cell_type": "code",
   "execution_count": 35,
   "metadata": {},
   "outputs": [
    {
     "data": {
      "text/plain": [
       "17"
      ]
     },
     "execution_count": 35,
     "metadata": {},
     "output_type": "execute_result"
    }
   ],
   "source": [
    "65-48"
   ]
  },
  {
   "cell_type": "code",
   "execution_count": 36,
   "metadata": {},
   "outputs": [
    {
     "data": {
      "text/plain": [
       "'A'"
      ]
     },
     "execution_count": 36,
     "metadata": {},
     "output_type": "execute_result"
    }
   ],
   "source": [
    "chr(65)"
   ]
  },
  {
   "cell_type": "code",
   "execution_count": 37,
   "metadata": {},
   "outputs": [
    {
     "data": {
      "text/plain": [
       "33"
      ]
     },
     "execution_count": 37,
     "metadata": {},
     "output_type": "execute_result"
    }
   ],
   "source": [
    "0b00100001"
   ]
  },
  {
   "cell_type": "code",
   "execution_count": 38,
   "metadata": {},
   "outputs": [
    {
     "data": {
      "text/plain": [
       "72"
      ]
     },
     "execution_count": 38,
     "metadata": {},
     "output_type": "execute_result"
    }
   ],
   "source": [
    "ord(\"H\")"
   ]
  },
  {
   "cell_type": "code",
   "execution_count": 39,
   "metadata": {},
   "outputs": [
    {
     "data": {
      "text/plain": [
       "'0b1001000'"
      ]
     },
     "execution_count": 39,
     "metadata": {},
     "output_type": "execute_result"
    }
   ],
   "source": [
    "bin(72)"
   ]
  },
  {
   "cell_type": "code",
   "execution_count": 40,
   "metadata": {},
   "outputs": [],
   "source": [
    "import  bitstring"
   ]
  },
  {
   "cell_type": "code",
   "execution_count": 41,
   "metadata": {},
   "outputs": [],
   "source": [
    "class InjectionBitValueRange():\n",
    "    def __init__(self, minimum_injection_bit_value, maximum_injection_bit_value):\n",
    "        self.minimum_injection_bit_value = minimum_injection_bit_value\n",
    "        self.maximum_injection_bit_value = maximum_injection_bit_value\n",
    "        \n",
    "    def is_in_range(self, value):\n",
    "        return bool(value>= self.minimum_injection_bit_value and value<=self.maximum_injection_bit_value)"
   ]
  },
  {
   "cell_type": "code",
   "execution_count": 69,
   "metadata": {},
   "outputs": [],
   "source": [
    "class InjectionBitCountRange():\n",
    "    def __init__(self, minimum_injection_bit_count, maximum_injection_bit_count):\n",
    "        self.minimum_injection_bit_count = minimum_injection_bit_count\n",
    "        self.maximum_injection_bit_count = maximum_injection_bit_count\n",
    "        \n",
    "    def is_in_range(self, value):\n",
    "        return bool(value>= self.minimum_injection_bit_count and value<=self.maximum_injection_bit_count)\n",
    "    \n",
    "class InjectionSpecification():\n",
    "    def __init__(self, minimal_injection, maximal_injection, extra_injections=None):\n",
    "        self.minimal_injection = minimal_injection\n",
    "        self.maximal_injection = maximal_injection\n",
    "        self.extra_injections = (extra_injections if(extra_injections is not None) else list())"
   ]
  },
  {
   "cell_type": "code",
   "execution_count": 70,
   "metadata": {},
   "outputs": [],
   "source": [
    "class InjectionChecker():\n",
    "    def __init__(self, injection_specification):\n",
    "        self.injection_specification = injection_specification\n",
    "        \n",
    "    def can_inject(self, bits_to_inject):\n",
    "        pass\n",
    "        "
   ]
  },
  {
   "cell_type": "code",
   "execution_count": 94,
   "metadata": {},
   "outputs": [],
   "source": [
    "class InjectionTechnique():\n",
    "    def __init__(self, injection_specifications):\n",
    "        self.injection_specifications = injection_specifications\n",
    "        \n",
    "    def try_inject_match(self, bits_to_inject):\n",
    "        #try to match parts or whole bits of data\n",
    "        pass\n",
    "    \n",
    "    def _can_partial_inject(self, bits_to_inject):\n",
    "        pass\n",
    "    \n",
    "class LowerLiteralsInjectionTechnique(InjectionTechnique):\n",
    "    injection_specifications = [InjectionSpecification(bitstring.BitArray(bin=\"0b00110000\"), bitstring.BitArray(bin=\"0b10111111\"))]\n",
    "    def __init__(self):\n",
    "        super().__init__(self.injection_specifications)"
   ]
  },
  {
   "cell_type": "code",
   "execution_count": 96,
   "metadata": {},
   "outputs": [],
   "source": [
    "class UpperLiteralsInjectionTechnique(InjectionTechnique):\n",
    "    injection_specifications = [InjectionSpecification(bitstring.BitArray(bin=\"0b110010000\"), bitstring.BitArray(bin=\"111111111\"))]\n",
    "    def __init__(self):\n",
    "        super().__init__(self.injection_specifications)"
   ]
  },
  {
   "cell_type": "code",
   "execution_count": 117,
   "metadata": {},
   "outputs": [],
   "source": [
    "class RefferenceLiteralsInjectionTechnique(InjectionTechnique):\n",
    "    # this technique uses the <length, distance> pair codes to inject data.\n",
    "    #first lengthcodes + extra_bits cause huffman_codes are stored with least significant byte first: 4321 and reading / writing is from right to left\n",
    "    # with lzss: <length, distance> pairs. Distances are stored with 5bit numbers from 00000 to 11101\n",
    "    # deflate has a literal/length and a distance alphabet.\n",
    "    lengthcodes_injection_specifications = [\n",
    "        InjectionSpecification(bitstring.BitArray(bin=\"0b0000001\"), bitstring.BitArray(bin=\"0b0001000\")),\n",
    "        InjectionSpecification(bitstring.BitArray(bin=\"0b00010010\"), bitstring.BitArray(bin=\"0b00010011\")),\n",
    "        InjectionSpecification(bitstring.BitArray(bin=\"0b000110100\"), bitstring.BitArray(bin=\"0b001000011\")),\n",
    "        InjectionSpecification(bitstring.BitArray(bin=\"0b0010001000\"), bitstring.BitArray(bin=\"0b0010100111\")),\n",
    "        InjectionSpecification(bitstring.BitArray(bin=\"0b00101010000\"), bitstring.BitArray(bin=\"0b00110001111\")),\n",
    "        InjectionSpecification(bitstring.BitArray(bin=\"0b001100100000\"), bitstring.BitArray(bin=\"0b001110011111\"), extra_injections=[bitstring.BitArray(bin=\"0b0011101\")])\n",
    "    ]\n",
    "    distancecodes_injection_specification = [\n",
    "        #...\n",
    "    ]\n",
    "    def __init__(self):\n",
    "            super().__init__(self.lengthcodes_injection_specifications)"
   ]
  },
  {
   "cell_type": "code",
   "execution_count": 115,
   "metadata": {},
   "outputs": [],
   "source": [
    "class InjectionTechniqueManager():\n",
    "    def __init__(self):\n",
    "        self.injection_techniques = set()\n",
    "        \n",
    "    def register_injection_technique(self, injection_technique):\n",
    "        if(not issubclass(injection_technique.__class__, InjectionTechnique)):\n",
    "            return False\n",
    "        self.injection_techniques.add(injection_technique)\n",
    "        return True\n",
    "    \n",
    "    def get_injection_techniques(self):\n",
    "        # techniques are preffered in order as they are registered\n",
    "        yield from self.injection_techniques\n",
    "    \n",
    "    \n",
    "class InjectionController():\n",
    "    def __init__(self, data, injection_technique_manager):\n",
    "        self.data = BitStreamWrapper.from_reversed_bytes(data)\n",
    "        self.injection_technique_manager = injection_technique_manager\n",
    "    \n",
    "    def inject_bits(self):\n",
    "        return self._inject_bits(self.data, b\"\")\n",
    "    \n",
    "    def _inject_bits(self, bits_to_inject, payload):\n",
    "        print(\"Injecting {0}\".format(str(data)))\n",
    "        # we have 4 options:\n",
    "        # (8bits)      1.with literals 0-143 we can achieve an code of 8bits 48-192!\n",
    "        # (9bits)      2.with literals 144-255 we can achieve an code of 9bits 400-511 -> 8bits of 200-255! (then first bit of next byte is 0 or 1)\n",
    "        #  ---------\n",
    "        # ((11)29bits) 3.with lengthcodes 257-279 (->lengths of 3-114) we can achieve an code of 7bits 0-23 + 0-4extrabits\n",
    "        # ((13)31bits) 4.with lengthcodes 280-287 (->lengths of 115-258) we can achieve an code of 8bits 192-199  + 4-5|0extrabits\n",
    "        # (18bits)       + following distance codes: with distances 1-32768 we can achieve an code of 5bits 0-29 + 0-13extrabits\n",
    "        # recursive algorithm\n",
    "        # maybe graph theory!!!\n",
    "        # we can go out of data bounds at the end cause that will not effect already injected data.\n",
    "        # stop condition\n",
    "        # for every possible injection type:\n",
    "        #   try to match data sequence with injecting (yielding all possible injections with this given injection type)\n",
    "        #   inject_bits(data[already_injected:], payload)\n",
    "        for injection_technique in self.injection_technique_manager.get_injection_techniques():\n",
    "            for injection_payload, injected_bit_count in injection_techique.try_inject_match(bits_to_inject):\n",
    "                new_payload = payload+injection_payload\n",
    "                if(injected_bit_count >= len(bits_to_inject)):\n",
    "                    return new_payload\n",
    "                new_bits_to_inject = bits_to_inject[injected_bit_count:]\n",
    "                try:\n",
    "                    return self._inject_bits(new_bits_to_inject, new_payload)\n",
    "                except InjectionError:\n",
    "                    pass\n",
    "        raise InjectionError(\"Could not inject {0}\".format(str(bits_to_inject)))"
   ]
  },
  {
   "cell_type": "code",
   "execution_count": 116,
   "metadata": {},
   "outputs": [],
   "source": [
    "data_to_inject = b\"ABCDEFG\"\n",
    "technique_manager = InjectionTechniqueManager()\n",
    "technique_manager.register_injection_technique(LowerLiteralsInjectionTechnique())\n",
    "technique_manager.register_injection_technique(UpperLiteralsInjectionTechnique())\n",
    "technique_manager.register_injection_technique(RefferenceLiteralsInjectionTechnique())\n",
    "controller = InjectionController(data_to_inject, technique_manager)"
   ]
  },
  {
   "cell_type": "code",
   "execution_count": 51,
   "metadata": {},
   "outputs": [],
   "source": [
    "import bitstring"
   ]
  },
  {
   "cell_type": "code",
   "execution_count": 52,
   "metadata": {},
   "outputs": [],
   "source": [
    "def generate_code_combination_for_injection(byte):\n",
    "    pass"
   ]
  },
  {
   "cell_type": "code",
   "execution_count": 53,
   "metadata": {},
   "outputs": [],
   "source": [
    "def is_literal_eigth_bit_code_representable(byte):\n",
    "    # with literals 0-143 we can achieve an code of 8bits 48-192!\n",
    "    return bool(byte>=48 and byte<=192)"
   ]
  },
  {
   "cell_type": "code",
   "execution_count": 54,
   "metadata": {},
   "outputs": [],
   "source": [
    "def is_literal_nine_bit_code_printable(byte):\n",
    "    # with literals 144-255 we can achieve an code of 9bits 400-511!\n",
    "    return bool(byte>=400 and byte<=511)"
   ]
  },
  {
   "cell_type": "code",
   "execution_count": 55,
   "metadata": {},
   "outputs": [],
   "source": [
    "def is_literal_nine_seven_trick_acceptable(byte, next_byte):\n",
    "    \n",
    "    # with literals 144-255 we can achieve an code of 9bits 400-511 -> 8bits of 200-255! (then first byte of 7bitcode is 0 or 1)\n",
    "    # with lengthcodes 257-279 (->lengths of 3-114) we can achieve an code of 7bits 0-23 + 0-4extrabits\n",
    "    return bool(byte>=200 and byte<=255)"
   ]
  },
  {
   "cell_type": "markdown",
   "metadata": {},
   "source": [
    "ith lengthcodes 257-279 (->lengths of 3-114) we can achieve an code of 7bits 0-23 + 0-4extrabits<br>\n",
    "ith lengthcodes 280-287 (->lengths of 115-258) we can achieve an code of 8bits 192-199  + 4-5|0extrabits<br>\n",
    " + following distance codes: with distances 1-32768 we can achieve an code of 5bits 0-29 + 0-13extrabits"
   ]
  },
  {
   "cell_type": "code",
   "execution_count": 56,
   "metadata": {},
   "outputs": [],
   "source": [
    "def inject_fixed_huffman_only_literals(data):\n",
    "    align_bytes = b\"\\x90\\x91\\x92\\x93\\x94\" # (3bytes block header +) 9+9+9+9 = 48 bytes as codes -> 49th byte for us bytealligned\n",
    "    payload = align_bytes\n",
    "    for b in data:\n",
    "        b = bitstring.BitArray(bytes=b, length=8)\n",
    "        b.reverse()\n",
    "        print(\"b: {0}\".format(str(b.uint)))\n",
    "        if(is_literal_eigth_bit_code_representable(b.uint)):\n",
    "            #easy win simply store these 8bits! WE CAN ALSO SHIFT ALLIGNMENT WITH 9/7 CODES AND PRINT SO DIFFERENT CHARACTER!\n",
    "            payload += int.to_bytes(b.uint-48, 1, \"little\")\n",
    "        elif(b.uint>=193 and b.uint<=199): #literal value 280-287\n",
    "            # we need length and distance codes . so we also need some literals at the beginning to refer to \n",
    "            payload += generate_code_combination_for_injection(b.uint)\n",
    "        else:\n",
    "            print(\"Cannot inject {0}\".format(str(b.bytes)))\n",
    "    return payload\n",
    "        "
   ]
  },
  {
   "cell_type": "code",
   "execution_count": 57,
   "metadata": {},
   "outputs": [],
   "source": [
    "def inject_no_compression(data):\n",
    "    return data"
   ]
  },
  {
   "cell_type": "code",
   "execution_count": 58,
   "metadata": {},
   "outputs": [
    {
     "name": "stdout",
     "output_type": "stream",
     "text": [
      "b: 68\n",
      "b: 164\n",
      "b: 100\n",
      "b: 148\n",
      "b: 84\n",
      "b: 52\n",
      "b: 180\n",
      "b: 116\n",
      "b: 140\n",
      "b: 76\n",
      "b: 172\n",
      "b: 108\n",
      "b: 156\n",
      "b: 92\n",
      "b: 60\n",
      "b: 188\n",
      "b: 124\n",
      "b: 130\n",
      "b: 66\n",
      "b: 162\n"
     ]
    },
    {
     "data": {
      "text/plain": [
       "b'\\x90\\x91\\x92\\x93\\x94\\x14t4d$\\x04\\x84D\\\\\\x1c|<l,\\x0c\\x8cLR\\x12r'"
      ]
     },
     "execution_count": 58,
     "metadata": {},
     "output_type": "execute_result"
    }
   ],
   "source": [
    "acceptable_chars = [b'\\x01', b'\\x02', b'\\x03', b'\\x05', b'\\x06', b'\\t', b'\\n', b'\\x0c', b'\\r', b'\\x0e', b'\\x11', b'\\x12', b'\\x15', b'\\x16', b'\\x19', b'\\x1a', b'\\x1c', b'\\x1d', b'\\x1e', b'!', b'\"', b'%', b'&', b')', b'*', b',', b'-', b'.', b'1', b'2', b'5', b'6', b'9', b':', b'<', b'=', b'>', b'A', b'B', b'E', b'F', b'I', b'J', b'L', b'M', b'N', b'Q', b'R', b'U', b'V', b'Y', b'Z', b'\\\\', b']', b'^', b'a', b'b', b'e', b'f', b'i', b'j', b'l', b'm', b'n', b'q', b'r', b'u', b'v', b'y', b'z', b'|', b'}', b'~', b'\\xc2\\x81', b'\\xc2\\x82', b'\\xc2\\x85', b'\\xc2\\x86', b'\\xc2\\x89', b'\\xc2\\x8a', b'\\xc2\\x8c', b'\\xc2\\x8d', b'\\xc2\\x8e', b'\\xc2\\x91', b'\\xc2\\x92', b'\\xc2\\x95', b'\\xc2\\x96', b'\\xc2\\x99', b'\\xc2\\x9a', b'\\xc2\\x9c', b'\\xc2\\x9d', b'\\xc2\\x9e', b'\\xc2\\xa1', b'\\xc2\\xa2', b'\\xc2\\xa5', b'\\xc2\\xa6', b'\\xc2\\xa9', b'\\xc2\\xaa', b'\\xc2\\xac', b'\\xc2\\xad', b'\\xc2\\xae', b'\\xc2\\xb1', b'\\xc2\\xb2', b'\\xc2\\xb5', b'\\xc2\\xb6', b'\\xc2\\xb9', b'\\xc2\\xba', b'\\xc2\\xbc', b'\\xc2\\xbd', b'\\xc2\\xbe', b'\\xc3\\x81', b'\\xc3\\x82', b'\\xc3\\x85', b'\\xc3\\x86', b'\\xc3\\x89', b'\\xc3\\x8a', b'\\xc3\\x8c', b'\\xc3\\x8d', b'\\xc3\\x8e', b'\\xc3\\x91', b'\\xc3\\x92', b'\\xc3\\x95', b'\\xc3\\x96', b'\\xc3\\x99', b'\\xc3\\x9a', b'\\xc3\\x9c', b'\\xc3\\x9d', b'\\xc3\\x9e', b'\\xc3\\xa1', b'\\xc3\\xa2', b'\\xc3\\xa5', b'\\xc3\\xa6', b'\\xc3\\xa9', b'\\xc3\\xaa', b'\\xc3\\xac', b'\\xc3\\xad', b'\\xc3\\xae', b'\\xc3\\xb1', b'\\xc3\\xb2', b'\\xc3\\xb5', b'\\xc3\\xb6', b'\\xc3\\xb9', b'\\xc3\\xba', b'\\xc3\\xbc', b'\\xc3\\xbd', b'\\xc3\\xbe']\n",
    "inject_fixed_huffman_only_literals(acceptable_chars[20:40])\n",
    "#inject_fixed_huffman_only_literals([int.to_bytes(i, 1, \"little\") for i in b\"<=>ytem\"])\n",
    "#inject_fixed_huffman_only_literals([b's', b'y', b's', b't', b'e', b'm'])"
   ]
  },
  {
   "cell_type": "markdown",
   "metadata": {},
   "source": [
    "In[ ]:"
   ]
  },
  {
   "cell_type": "code",
   "execution_count": null,
   "metadata": {},
   "outputs": [],
   "source": []
  }
 ],
 "metadata": {
  "kernelspec": {
   "display_name": "Python 3",
   "language": "python",
   "name": "python3"
  },
  "language_info": {
   "codemirror_mode": {
    "name": "ipython",
    "version": 3
   },
   "file_extension": ".py",
   "mimetype": "text/x-python",
   "name": "python",
   "nbconvert_exporter": "python",
   "pygments_lexer": "ipython3",
   "version": "3.8.5"
  }
 },
 "nbformat": 4,
 "nbformat_minor": 2
}
